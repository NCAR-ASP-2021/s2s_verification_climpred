{
 "cells": [
  {
   "cell_type": "markdown",
   "metadata": {},
   "source": [
    "# `s2s_verification_climpred` student project template\n",
    "\n",
    "This notebook is part of the [tutorials](https://www.cgd.ucar.edu/events/2021/asp-colloquia/tutorials.html) in the [ASP summer school](https://www.cgd.ucar.edu/events/2021/asp-colloquia/).\n",
    "\n",
    "In the [S2S verification tutorial](https://docs.google.com/document/d/1nQOyjjAjdqN2sl3IeJYCytCo4l_49GW6fMgkKjsnsCc/edit),\n",
    "we use `climpred` https://climpred.readthedocs.io/en/stable/ to verify subseasonal-to-seasonal (S2S) forecasts against observations.\n",
    "\n",
    "---\n",
    "\n",
    "Intro:\n",
    "\n",
    "- a\n",
    "- b\n",
    "\n",
    "Level of difficulty:\n",
    "\n",
    "- country data: easy\n",
    "- geospatial data: medium\n",
    "\n",
    "---\n",
    "\n",
    "Other resources:\n",
    "\n",
    "- `xarray`: working horse for geospatial data in python\n",
    "    - documentation: xarray.pydata.org/\n",
    "    - tutorial: https://xarray-contrib.github.io/xarray-tutorial/\n",
    "- `xskillscore`: is built on top of `xarray` and provides `metric`s to `climpred`\n",
    "    - documentation: https://xskillscore.readthedocs.io/en/stable/\n",
    "    - quick-start: https://mybinder.org/v2/gh/xarray-contrib/xskillscore/master?urlpath=lab\n",
    "- `climpred`:\n",
    "    - documentation: https://climpred.readthedocs.io/en/stable/\n",
    "    - data model: https://climpred.readthedocs.io/en/stable/setting-up-data.html\n",
    "    - classes: https://climpred.readthedocs.io/en/stable/prediction-ensemble-object.html\n",
    "    - list of initialized public datasets to work with: https://climpred.readthedocs.io/en/stable/initialized-datasets.html\n",
    "    - terminology: https://climpred.readthedocs.io/en/stable/terminology.html\n",
    "    - alignment: https://climpred.readthedocs.io/en/stable/alignment.html\n",
    "    \n",
    "--- \n",
    "\n",
    "Usage questions? Consider...\n",
    "\n",
    "- raising an [issue](https://github.com/pangeo-data/climpred/issues), which can be transferred to [discussions](https://github.com/pangeo-data/climpred/discussions)\n",
    "- reaching out on [slack](asp2021-s2s.slack.com)"
   ]
  },
  {
   "cell_type": "code",
   "execution_count": 1,
   "metadata": {},
   "outputs": [
    {
     "data": {
      "text/plain": [
       "<climpred.options.set_options at 0x2b73f1256d00>"
      ]
     },
     "execution_count": 1,
     "metadata": {},
     "output_type": "execute_result"
    }
   ],
   "source": [
    "import numpy as np\n",
    "import xarray as xr\n",
    "import climpred\n",
    "import matplotlib.pyplot as plt\n",
    "xr.set_options(keep_attrs=True)\n",
    "climpred.set_options(warn_for_failed_PredictionEnsemble_xr_call=False)"
   ]
  },
  {
   "cell_type": "markdown",
   "metadata": {},
   "source": [
    "## Get data"
   ]
  },
  {
   "cell_type": "code",
   "execution_count": null,
   "metadata": {},
   "outputs": [],
   "source": []
  },
  {
   "cell_type": "markdown",
   "metadata": {},
   "source": [
    "# Task 1 \n",
    "\n",
    "hints"
   ]
  },
  {
   "cell_type": "code",
   "execution_count": null,
   "metadata": {},
   "outputs": [],
   "source": []
  },
  {
   "cell_type": "markdown",
   "metadata": {},
   "source": [
    "# Task 2\n",
    "\n",
    "hints"
   ]
  },
  {
   "cell_type": "code",
   "execution_count": null,
   "metadata": {},
   "outputs": [],
   "source": []
  }
 ],
 "metadata": {
  "kernelspec": {
   "display_name": "Python [conda env:.conda-s2s-climpred]",
   "language": "python",
   "name": "conda-env-.conda-s2s-climpred-py"
  },
  "language_info": {
   "codemirror_mode": {
    "name": "ipython",
    "version": 3
   },
   "file_extension": ".py",
   "mimetype": "text/x-python",
   "name": "python",
   "nbconvert_exporter": "python",
   "pygments_lexer": "ipython3",
   "version": "3.8.10"
  },
  "toc-autonumbering": true
 },
 "nbformat": 4,
 "nbformat_minor": 4
}
