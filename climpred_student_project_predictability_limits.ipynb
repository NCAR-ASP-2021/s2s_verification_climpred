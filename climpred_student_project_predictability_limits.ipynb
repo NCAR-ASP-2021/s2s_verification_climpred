{
 "cells": [
  {
   "cell_type": "markdown",
   "metadata": {},
   "source": [
    "# `s2s_verification_climpred` student project Predictability Limits\n",
    "\n",
    "This notebook is part of the [tutorials](https://www.cgd.ucar.edu/events/2021/asp-colloquia/tutorials.html) in the [ASP summer school](https://www.cgd.ucar.edu/events/2021/asp-colloquia/).\n",
    "\n",
    "In the [S2S verification tutorial](https://docs.google.com/document/d/1nQOyjjAjdqN2sl3IeJYCytCo4l_49GW6fMgkKjsnsCc/edit),\n",
    "we use `climpred` https://climpred.readthedocs.io/en/stable/ to verify subseasonal-to-seasonal (S2S) forecasts against observations.\n",
    "\n",
    "---\n",
    "\n",
    "Intro:\n",
    "\n",
    "When verifying against reanalysis (a gridded version of observations), we are introducing an error since the model evolution will be different from that in real nature, due to truncation (and other) errors. To get an estimate of the predictability limit for a particular process, we can verify the ensemble against one of the ensemble members rather than reanalysis. This will give us a predictability limit for a particular process assuming there is no difference between the model and nature. This is also called “potential predictability”. Obviously, this estimate can be wrong if the model does not represent the physical process correctly.\n",
    "\n",
    "\n",
    "Level of difficulty:\n",
    "\n",
    "- country data: easy\n",
    "- geospatial data: medium\n",
    "\n",
    "---\n",
    "\n",
    "Other resources:\n",
    "\n",
    "- `xarray`: working horse for geospatial data in python\n",
    "    - documentation: xarray.pydata.org/\n",
    "    - tutorial: https://xarray-contrib.github.io/xarray-tutorial/\n",
    "- `xskillscore`: is built on top of `xarray` and provides `metric`s to `climpred`\n",
    "    - documentation: https://xskillscore.readthedocs.io/en/stable/\n",
    "    - quick-start: https://mybinder.org/v2/gh/xarray-contrib/xskillscore/master?urlpath=lab\n",
    "- `climpred`:\n",
    "    - documentation: https://climpred.readthedocs.io/en/stable/\n",
    "    - data model: https://climpred.readthedocs.io/en/stable/setting-up-data.html\n",
    "    - classes: https://climpred.readthedocs.io/en/stable/prediction-ensemble-object.html\n",
    "    - list of initialized public datasets to work with: https://climpred.readthedocs.io/en/stable/initialized-datasets.html\n",
    "    - terminology: https://climpred.readthedocs.io/en/stable/terminology.html\n",
    "    \n",
    "--- \n",
    "\n",
    "Usage questions? Consider...\n",
    "\n",
    "- raising an [issue](https://github.com/pangeo-data/climpred/issues), which can be transferred to [discussions](https://github.com/pangeo-data/climpred/discussions)\n",
    "- reaching out on [slack](asp2021-s2s.slack.com)"
   ]
  },
  {
   "cell_type": "code",
   "execution_count": 1,
   "metadata": {},
   "outputs": [
    {
     "data": {
      "text/plain": [
       "<climpred.options.set_options at 0x2b73f1256d00>"
      ]
     },
     "execution_count": 1,
     "metadata": {},
     "output_type": "execute_result"
    }
   ],
   "source": [
    "import numpy as np\n",
    "import xarray as xr\n",
    "import climpred\n",
    "import matplotlib.pyplot as plt\n",
    "xr.set_options(keep_attrs=True)\n",
    "climpred.set_options(warn_for_failed_PredictionEnsemble_xr_call=False)"
   ]
  },
  {
   "cell_type": "markdown",
   "metadata": {},
   "source": [
    "## Get data"
   ]
  },
  {
   "cell_type": "code",
   "execution_count": null,
   "metadata": {},
   "outputs": [],
   "source": []
  },
  {
   "cell_type": "markdown",
   "metadata": {},
   "source": [
    "# Predictability limit"
   ]
  },
  {
   "cell_type": "markdown",
   "metadata": {},
   "source": [
    "To estimate the predictability limit, replace the verifying dataset with one of the ensemble members.\n",
    "Does the predictability horizon increase or decrease?"
   ]
  },
  {
   "cell_type": "code",
   "execution_count": null,
   "metadata": {},
   "outputs": [],
   "source": [
    "# first try with HindcastEnsemble\n",
    "# your code"
   ]
  },
  {
   "cell_type": "code",
   "execution_count": null,
   "metadata": {},
   "outputs": [],
   "source": [
    "# now try with PerfectModelEnsemble"
   ]
  },
  {
   "cell_type": "markdown",
   "metadata": {},
   "source": [
    "# Reference forecasts"
   ]
  },
  {
   "cell_type": "markdown",
   "metadata": {},
   "source": [
    "Another aspect of predictability is to see if the S2S ensemble forecast outperforms climatology and/or persistence.\n",
    "Is this forecast still good if the climatology is produced from the years excluding the verified period?"
   ]
  },
  {
   "cell_type": "code",
   "execution_count": null,
   "metadata": {},
   "outputs": [],
   "source": [
    "# calc skill initialized and reference skills: https://climpred.readthedocs.io/en/latest/reference_forecast.html"
   ]
  },
  {
   "cell_type": "markdown",
   "metadata": {},
   "source": [
    "## how many leads better than reference forecast?"
   ]
  },
  {
   "cell_type": "markdown",
   "metadata": {},
   "source": [
    "- `easy`: use https://climpred.readthedocs.io/en/latest/api/climpred.horizon.horizon.html\n",
    "- `medium`: define a function that finds limit/horizon\n",
    "- `hard`: define that function and make it work on geospatial data"
   ]
  },
  {
   "cell_type": "code",
   "execution_count": null,
   "metadata": {},
   "outputs": [],
   "source": []
  },
  {
   "cell_type": "code",
   "execution_count": null,
   "metadata": {},
   "outputs": [],
   "source": []
  },
  {
   "cell_type": "code",
   "execution_count": null,
   "metadata": {},
   "outputs": [],
   "source": []
  }
 ],
 "metadata": {
  "kernelspec": {
   "display_name": "Python [conda env:.conda-s2s-climpred]",
   "language": "python",
   "name": "conda-env-.conda-s2s-climpred-py"
  },
  "language_info": {
   "codemirror_mode": {
    "name": "ipython",
    "version": 3
   },
   "file_extension": ".py",
   "mimetype": "text/x-python",
   "name": "python",
   "nbconvert_exporter": "python",
   "pygments_lexer": "ipython3",
   "version": "3.8.10"
  },
  "toc-autonumbering": true
 },
 "nbformat": 4,
 "nbformat_minor": 4
}
