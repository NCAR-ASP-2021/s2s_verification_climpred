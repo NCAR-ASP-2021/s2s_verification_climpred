{
 "cells": [
  {
   "cell_type": "markdown",
   "metadata": {},
   "source": [
    "# `s2s_verification_climpred` student project template\n",
    "\n",
    "This notebook is part of the [tutorials](https://www.cgd.ucar.edu/events/2021/asp-colloquia/tutorials.html) in the [ASP summer school](https://www.cgd.ucar.edu/events/2021/asp-colloquia/).\n",
    "\n",
    "In the [S2S verification tutorial](https://docs.google.com/document/d/1nQOyjjAjdqN2sl3IeJYCytCo4l_49GW6fMgkKjsnsCc/edit),\n",
    "we use `climpred` https://climpred.readthedocs.io/en/stable/ to verify subseasonal-to-seasonal (S2S) forecasts against observations.\n",
    "\n",
    "---\n",
    "\n",
    "Intro:\n",
    "\n",
    "- a\n",
    "- Make yourself familiar with the workflow of the provided python jupyter notebooks.\n",
    "\n",
    "---\n",
    "\n",
    "Other resources:\n",
    "\n",
    "- `xarray`: working horse for geospatial data in python\n",
    "    - documentation: xarray.pydata.org/\n",
    "    - tutorial: https://xarray-contrib.github.io/xarray-tutorial/\n",
    "- `xskillscore`: is built on top of `xarray` and provides `metric`s to `climpred`\n",
    "    - documentation: https://xskillscore.readthedocs.io/en/stable/\n",
    "    - quick-start: https://mybinder.org/v2/gh/xarray-contrib/xskillscore/master?urlpath=lab\n",
    "- `climpred`:\n",
    "    - documentation: https://climpred.readthedocs.io/en/stable/\n",
    "    - data model: https://climpred.readthedocs.io/en/stable/setting-up-data.html\n",
    "    - classes: https://climpred.readthedocs.io/en/stable/prediction-ensemble-object.html\n",
    "    - list of initialized public datasets to work with: https://climpred.readthedocs.io/en/stable/initialized-datasets.html\n",
    "    - terminology: https://climpred.readthedocs.io/en/stable/terminology.html\n",
    "    \n",
    "--- \n",
    "\n",
    "Usage questions? Consider...\n",
    "\n",
    "- raising an [issue](https://github.com/pangeo-data/climpred/issues), which can be transferred to [discussions](https://github.com/pangeo-data/climpred/discussions)\n",
    "- reaching out on [slack](asp2021-s2s.slack.com)"
   ]
  },
  {
   "cell_type": "code",
   "execution_count": 1,
   "metadata": {},
   "outputs": [
    {
     "data": {
      "text/plain": [
       "<climpred.options.set_options at 0x2b73f1256d00>"
      ]
     },
     "execution_count": 1,
     "metadata": {},
     "output_type": "execute_result"
    }
   ],
   "source": [
    "import numpy as np\n",
    "import xarray as xr\n",
    "import climpred\n",
    "import matplotlib.pyplot as plt\n",
    "xr.set_options(keep_attrs=True)\n",
    "climpred.set_options(warn_for_failed_PredictionEnsemble_xr_call=False)"
   ]
  },
  {
   "cell_type": "code",
   "execution_count": null,
   "metadata": {},
   "outputs": [],
   "source": []
  },
  {
   "cell_type": "markdown",
   "metadata": {},
   "source": [
    "## Get data"
   ]
  },
  {
   "cell_type": "code",
   "execution_count": null,
   "metadata": {},
   "outputs": [],
   "source": []
  },
  {
   "cell_type": "markdown",
   "metadata": {},
   "source": [
    "# Startup"
   ]
  },
  {
   "cell_type": "code",
   "execution_count": null,
   "metadata": {},
   "outputs": [],
   "source": [
    "# Plot some maps and bar diagrams for different deterministic and probabilistic metrics."
   ]
  },
  {
   "cell_type": "code",
   "execution_count": null,
   "metadata": {},
   "outputs": [],
   "source": [
    "# Select a region of your interest. How does the skill in this region compare to the global skill?"
   ]
  },
  {
   "cell_type": "markdown",
   "metadata": {},
   "source": [
    "## Multi model comparison\n",
    "\n",
    "Hint: check that initialization datasets are on overlapping dates when doing a multi-model analysis."
   ]
  },
  {
   "cell_type": "markdown",
   "metadata": {},
   "source": [
    "- Compute deterministic and probabilistic skill across different models and model versions:\n",
    "    - root mean square error (RMSE)\n",
    "    - anomaly correlation (ACC)\n",
    "    - Ranked probability score (RPS) with category_edges expressed by physical variables thresholds with units (`easy`) or tercile probabilities (`hard`)\n",
    "    - compute RPSS based on RPS(initialized) and RPS(climatology) `hard`\n",
    "    - continuous rank probability score (CRPS)"
   ]
  },
  {
   "cell_type": "code",
   "execution_count": null,
   "metadata": {},
   "outputs": [],
   "source": []
  },
  {
   "cell_type": "markdown",
   "metadata": {},
   "source": [
    "Discuss what’s the difference between rmse and acc. How do amplitude and pattern correlation affect the different deterministic measures?"
   ]
  },
  {
   "cell_type": "code",
   "execution_count": null,
   "metadata": {},
   "outputs": [],
   "source": []
  },
  {
   "cell_type": "markdown",
   "metadata": {},
   "source": [
    "Discuss what’s the difference between rmse and acc? How do amplitude and pattern correlation affect the different deterministic measures?"
   ]
  },
  {
   "cell_type": "code",
   "execution_count": null,
   "metadata": {},
   "outputs": [],
   "source": []
  },
  {
   "cell_type": "markdown",
   "metadata": {},
   "source": [
    "Discuss what the difference between deterministic and probabilistic skill measures (no need to understand all the details between different probabilistic measures)"
   ]
  },
  {
   "cell_type": "code",
   "execution_count": null,
   "metadata": {},
   "outputs": [],
   "source": []
  },
  {
   "cell_type": "markdown",
   "metadata": {},
   "source": [
    "## lead-time dependent bias"
   ]
  },
  {
   "cell_type": "markdown",
   "metadata": {},
   "source": [
    "Coupled models are known to drift away from the climatology of the observations, i.e. their mean state is different from that of nature (“model drift”). To account for this error, we remove the lead-time dependent model bias from each forecast."
   ]
  },
  {
   "cell_type": "code",
   "execution_count": null,
   "metadata": {},
   "outputs": [],
   "source": [
    "# plot bias"
   ]
  },
  {
   "cell_type": "code",
   "execution_count": null,
   "metadata": {},
   "outputs": [],
   "source": []
  },
  {
   "cell_type": "code",
   "execution_count": null,
   "metadata": {},
   "outputs": [],
   "source": [
    "# use bias reduction"
   ]
  },
  {
   "cell_type": "code",
   "execution_count": null,
   "metadata": {},
   "outputs": [],
   "source": []
  },
  {
   "cell_type": "code",
   "execution_count": null,
   "metadata": {},
   "outputs": [],
   "source": [
    "# plot skill and compare to before bias reduction"
   ]
  },
  {
   "cell_type": "code",
   "execution_count": null,
   "metadata": {},
   "outputs": [],
   "source": []
  },
  {
   "cell_type": "markdown",
   "metadata": {},
   "source": [
    "Compute some deterministic and probabilistic skill measures with and without removing the lead-time dependent model bias. Estimate how much the total error comes from model drift and how much from forecast uncertainty. "
   ]
  },
  {
   "cell_type": "code",
   "execution_count": null,
   "metadata": {},
   "outputs": [],
   "source": []
  },
  {
   "cell_type": "markdown",
   "metadata": {},
   "source": [
    "To assess probabilistic forecast skill and uncertainty, ensemble prediction systems (EPSs) run different members from slightly perturbed initial conditions."
   ]
  },
  {
   "cell_type": "code",
   "execution_count": null,
   "metadata": {},
   "outputs": [],
   "source": []
  }
 ],
 "metadata": {
  "kernelspec": {
   "display_name": "Python [conda env:.conda-s2s-climpred]",
   "language": "python",
   "name": "conda-env-.conda-s2s-climpred-py"
  },
  "language_info": {
   "codemirror_mode": {
    "name": "ipython",
    "version": 3
   },
   "file_extension": ".py",
   "mimetype": "text/x-python",
   "name": "python",
   "nbconvert_exporter": "python",
   "pygments_lexer": "ipython3",
   "version": "3.8.10"
  },
  "toc-autonumbering": true
 },
 "nbformat": 4,
 "nbformat_minor": 4
}
