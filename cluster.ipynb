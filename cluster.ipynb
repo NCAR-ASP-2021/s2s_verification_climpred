{
 "cells": [
  {
   "cell_type": "markdown",
   "id": "76949d59-ca39-4e0f-b155-5315860ad670",
   "metadata": {},
   "source": [
    "# Start a PBS cluster on `casper`"
   ]
  },
  {
   "cell_type": "markdown",
   "id": "f5fb4443-d72b-4072-ae9e-276bb27813a5",
   "metadata": {},
   "source": [
    "[documentation](https://github.com/NCAR/ncar-jobqueue)"
   ]
  },
  {
   "cell_type": "code",
   "execution_count": 2,
   "id": "57d95476-3671-4313-b7f7-5689b0144f48",
   "metadata": {},
   "outputs": [
    {
     "name": "stdout",
     "output_type": "stream",
     "text": [
      "# packages in environment at /glade/u/home/aspring/.conda/envs/s2s-climpred:\n",
      "#\n",
      "# Name                    Version                   Build  Channel\n",
      "distributed               2.30.1           py38h578d9bd_0    conda-forge\n"
     ]
    }
   ],
   "source": [
    "!conda list distr"
   ]
  },
  {
   "cell_type": "code",
   "execution_count": 3,
   "id": "35d8f7ca-7c25-4ba5-85ea-df552a2e463c",
   "metadata": {},
   "outputs": [
    {
     "name": "stdout",
     "output_type": "stream",
     "text": [
      "# packages in environment at /glade/u/home/aspring/.conda/envs/s2s-climpred:\n",
      "#\n",
      "# Name                    Version                   Build  Channel\n",
      "dask                      2.30.0                     py_0    conda-forge\n",
      "dask-core                 2.30.0                     py_0    conda-forge\n",
      "dask-jobqueue             0.7.2              pyhd8ed1ab_1    conda-forge\n"
     ]
    }
   ],
   "source": [
    "!conda list dask"
   ]
  },
  {
   "cell_type": "code",
   "execution_count": 4,
   "id": "e0a09ab3-5930-49f8-9922-1da7d1128ffb",
   "metadata": {},
   "outputs": [
    {
     "name": "stderr",
     "output_type": "stream",
     "text": [
      "/glade/u/home/aspring/.conda/envs/s2s-climpred/lib/python3.8/site-packages/distributed/node.py:151: UserWarning: Port 8787 is already in use.\n",
      "Perhaps you already have a cluster running?\n",
      "Hosting the HTTP server on port 38116 instead\n",
      "  warnings.warn(\n"
     ]
    },
    {
     "data": {
      "application/vnd.jupyter.widget-view+json": {
       "model_id": "32b50cd4ffbb4560a048bffb42bf75d1",
       "version_major": 2,
       "version_minor": 0
      },
      "text/plain": [
       "VBox(children=(HTML(value='<h2>PBSCluster</h2>'), HBox(children=(HTML(value='\\n<div>\\n  <style scoped>\\n    .d…"
      ]
     },
     "metadata": {},
     "output_type": "display_data"
    }
   ],
   "source": [
    "from ncar_jobqueue import NCARCluster\n",
    "from dask.distributed import Client\n",
    "cluster = NCARCluster(project='NASP0002')\n",
    "cluster"
   ]
  },
  {
   "cell_type": "code",
   "execution_count": 5,
   "id": "f89901d2-7705-438e-9ad1-ccdbc71599d6",
   "metadata": {},
   "outputs": [],
   "source": [
    "#import dask\n",
    "#dask.config.set({'distributed.dashboard.link':'https://jupyterhub.hpc.ucar.edu/stable/user/{USER}/proxy/{port}/status'})"
   ]
  },
  {
   "cell_type": "code",
   "execution_count": 11,
   "id": "4b71150a-a072-40c6-ba19-4d40c7ab05c0",
   "metadata": {},
   "outputs": [],
   "source": [
    "# choose either one or\n",
    "cluster.scale(jobs=2) # no initial hickups\n",
    "#cluster.adapt(minimum_jobs=1,maximum_jobs=8) # more economical"
   ]
  },
  {
   "cell_type": "code",
   "execution_count": 7,
   "id": "09bd0f31-2dba-4ad4-bb20-2bbfcfa8bbc4",
   "metadata": {},
   "outputs": [],
   "source": [
    "client = Client(cluster)"
   ]
  },
  {
   "cell_type": "code",
   "execution_count": 8,
   "id": "9d40383b-ba52-476a-b6db-cf402bf94696",
   "metadata": {},
   "outputs": [
    {
     "data": {
      "text/html": [
       "<table style=\"border: 2px solid white;\">\n",
       "<tr>\n",
       "<td style=\"vertical-align: top; border: 0px solid white\">\n",
       "<h3 style=\"text-align: left;\">Client</h3>\n",
       "<ul style=\"text-align: left; list-style: none; margin: 0; padding: 0;\">\n",
       "  <li><b>Scheduler: </b>tcp://10.12.206.63:36876</li>\n",
       "  <li><b>Dashboard: </b><a href='https://jupyterhub.hpc.ucar.edu/stable/user/aspring/proxy/38116/status' target='_blank'>https://jupyterhub.hpc.ucar.edu/stable/user/aspring/proxy/38116/status</a></li>\n",
       "</ul>\n",
       "</td>\n",
       "<td style=\"vertical-align: top; border: 0px solid white\">\n",
       "<h3 style=\"text-align: left;\">Cluster</h3>\n",
       "<ul style=\"text-align: left; list-style:none; margin: 0; padding: 0;\">\n",
       "  <li><b>Workers: </b>0</li>\n",
       "  <li><b>Cores: </b>0</li>\n",
       "  <li><b>Memory: </b>0 B</li>\n",
       "</ul>\n",
       "</td>\n",
       "</tr>\n",
       "</table>"
      ],
      "text/plain": [
       "<Client: 'tcp://10.12.206.63:36876' processes=0 threads=0, memory=0 B>"
      ]
     },
     "execution_count": 8,
     "metadata": {},
     "output_type": "execute_result"
    }
   ],
   "source": [
    "client"
   ]
  },
  {
   "cell_type": "code",
   "execution_count": 9,
   "id": "88599648-84a9-4757-b872-5707f21270ed",
   "metadata": {},
   "outputs": [
    {
     "name": "stdout",
     "output_type": "stream",
     "text": [
      "#!/usr/bin/env bash\n",
      "\n",
      "#PBS -N dask-worker-casper-dav\n",
      "#PBS -q casper\n",
      "#PBS -A NASP0002\n",
      "#PBS -l select=1:ncpus=1:mem=25GB\n",
      "#PBS -l walltime=01:00:00\n",
      "#PBS -e /glade/scratch/aspring/dask/casper-dav/logs/\n",
      "#PBS -o /glade/scratch/aspring/dask/casper-dav/logs/\n",
      "\n",
      "/glade/u/home/aspring/.conda/envs/s2s-climpred/bin/python -m distributed.cli.dask_worker tcp://10.12.206.63:36876 --nthreads 2 --memory-limit 25.00GB --name dummy-name --nanny --death-timeout 60 --local-directory /glade/scratch/aspring/dask/casper-dav/local-dir --interface ib0 --protocol tcp://\n",
      "\n"
     ]
    }
   ],
   "source": [
    "print(cluster.job_script())"
   ]
  },
  {
   "cell_type": "code",
   "execution_count": 10,
   "id": "744ef5cf-9fbb-4be2-9151-6143868fcd38",
   "metadata": {},
   "outputs": [
    {
     "data": {
      "text/plain": [
       "'https://jupyterhub.hpc.ucar.edu/stable/user/aspring/proxy/38116/status'"
      ]
     },
     "execution_count": 10,
     "metadata": {},
     "output_type": "execute_result"
    }
   ],
   "source": [
    "cluster.dashboard_link"
   ]
  },
  {
   "cell_type": "code",
   "execution_count": null,
   "id": "962cb695-f310-49f1-b4b0-94dac58885ac",
   "metadata": {},
   "outputs": [],
   "source": []
  },
  {
   "cell_type": "code",
   "execution_count": null,
   "id": "79299797-ce63-4436-b38d-60a7276a936f",
   "metadata": {},
   "outputs": [],
   "source": [
    "# at the end of the sessions"
   ]
  },
  {
   "cell_type": "code",
   "execution_count": 11,
   "id": "a5684165-0931-45b3-919d-3e3aa7a97b5d",
   "metadata": {},
   "outputs": [
    {
     "name": "stderr",
     "output_type": "stream",
     "text": [
      "/glade/u/home/aspring/miniconda3/envs/s2s/lib/python3.8/site-packages/dask_jobqueue/core.py:360: FutureWarning: ignoring was deprecated in version 2021.06.1 and will be removed in a future release. Please use contextlib.suppress from the standard library instead.\n",
      "  with ignoring(RuntimeError):  # deleting job when job already gone\n",
      "/glade/u/home/aspring/miniconda3/envs/s2s/lib/python3.8/site-packages/dask_jobqueue/core.py:360: FutureWarning: ignoring was deprecated in version 2021.06.1 and will be removed in a future release. Please use contextlib.suppress from the standard library instead.\n",
      "  with ignoring(RuntimeError):  # deleting job when job already gone\n"
     ]
    }
   ],
   "source": [
    "cluster.close()"
   ]
  },
  {
   "cell_type": "code",
   "execution_count": 12,
   "id": "817a2eba-ecc9-4471-91b9-78bcf4bc98ec",
   "metadata": {},
   "outputs": [],
   "source": [
    "client.close()"
   ]
  },
  {
   "cell_type": "code",
   "execution_count": null,
   "id": "d2ffc0cc-c147-4812-a632-25e326ba459d",
   "metadata": {},
   "outputs": [],
   "source": []
  }
 ],
 "metadata": {
  "kernelspec": {
   "display_name": "Python [conda env:.conda-s2s-climpred]",
   "language": "python",
   "name": "conda-env-.conda-s2s-climpred-py"
  },
  "language_info": {
   "codemirror_mode": {
    "name": "ipython",
    "version": 3
   },
   "file_extension": ".py",
   "mimetype": "text/x-python",
   "name": "python",
   "nbconvert_exporter": "python",
   "pygments_lexer": "ipython3",
   "version": "3.8.10"
  }
 },
 "nbformat": 4,
 "nbformat_minor": 5
}
